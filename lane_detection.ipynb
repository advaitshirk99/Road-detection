{
 "cells": [
  {
   "cell_type": "code",
   "execution_count": 1,
   "id": "a752a537-86fb-4632-88a6-e52e51abeb68",
   "metadata": {},
   "outputs": [],
   "source": [
    "#Importing some useful packages\n",
    "import matplotlib.pyplot as plt\n",
    "import matplotlib.image as mpimg\n",
    "import numpy as np\n",
    "import cv2\n",
    "import os\n",
    "import glob\n",
    "\n",
    "%matplotlib inline"
   ]
  },
  {
   "cell_type": "code",
   "execution_count": 2,
   "id": "131c7eb7-0f70-4ac5-9321-ab9e6a4d207d",
   "metadata": {},
   "outputs": [],
   "source": [
    "def list_images(images, cols = 2, rows = 6, cmap=None):\n",
    "    \"\"\"\n",
    "    Display a list of images in a single figure with matplotlib.\n",
    "        Parameters:\n",
    "            images: List of np.arrays compatible with plt.imshow.\n",
    "            cols (Default = 2): Number of columns in the figure.\n",
    "            rows (Default = 5): Number of rows in the figure.\n",
    "            cmap (Default = None): Used to display gray images.\n",
    "    \"\"\"\n",
    "    plt.figure(figsize=(10, 11))\n",
    "    for i, image in enumerate(images):\n",
    "        plt.subplot(rows, cols, i+1)\n",
    "        #Using gray scale color map if there is only one channel\n",
    "        cmap = 'gray' if len(image.shape) == 2 else cmap\n",
    "        img = cv2.resize(image, (480,270))\n",
    "        plt.imshow(img, cmap = cmap)\n",
    "        plt.xticks([])\n",
    "        plt.yticks([])\n",
    "    plt.tight_layout(pad=0, h_pad=0, w_pad=0)\n",
    "    plt.show()"
   ]
  },
  {
   "cell_type": "code",
   "execution_count": 3,
   "id": "8b1f2317-37da-4a95-80ee-078f999123b3",
   "metadata": {},
   "outputs": [],
   "source": [
    "def display_image(test_image):\n",
    "    plt.figure(figsize=(10,11))\n",
    "    cmap = None\n",
    "    cmap = 'gray' if len(test_image.shape) == 2 else cmap\n",
    "    img = cv2.resize(test_image, (480, 270))\n",
    "    plt.imshow(img, cmap = cmap)\n",
    "    plt.xticks([])\n",
    "    plt.yticks([])\n",
    "    plt.show()"
   ]
  },
  {
   "cell_type": "code",
   "execution_count": 4,
   "id": "df182456-7c3c-4099-a4f8-c2908a1d19fb",
   "metadata": {},
   "outputs": [
    {
     "ename": "FileNotFoundError",
     "evalue": "[Errno 2] No such file or directory: 'Road-detection/test_images/frame2519_leftImg8bit.jpg'",
     "output_type": "error",
     "traceback": [
      "\u001b[1;31m---------------------------------------------------------------------------\u001b[0m",
      "\u001b[1;31mFileNotFoundError\u001b[0m                         Traceback (most recent call last)",
      "Cell \u001b[1;32mIn [4], line 2\u001b[0m\n\u001b[0;32m      1\u001b[0m \u001b[38;5;66;03m#Reading in the test images\u001b[39;00m\n\u001b[1;32m----> 2\u001b[0m test_image \u001b[38;5;241m=\u001b[39m \u001b[43mplt\u001b[49m\u001b[38;5;241;43m.\u001b[39;49m\u001b[43mimread\u001b[49m\u001b[43m(\u001b[49m\u001b[38;5;124;43m'\u001b[39;49m\u001b[38;5;124;43mRoad-detection/test_images/frame2519_leftImg8bit.jpg\u001b[39;49m\u001b[38;5;124;43m'\u001b[39;49m\u001b[43m)\u001b[49m\n\u001b[0;32m      3\u001b[0m display_image(test_image)\n\u001b[0;32m      4\u001b[0m \u001b[38;5;66;03m#list_images(test_images)\u001b[39;00m\n",
      "File \u001b[1;32mc:\\users\\adshi\\appdata\\local\\programs\\python\\python38\\lib\\site-packages\\matplotlib\\pyplot.py:2123\u001b[0m, in \u001b[0;36mimread\u001b[1;34m(fname, format)\u001b[0m\n\u001b[0;32m   2121\u001b[0m \u001b[38;5;129m@_copy_docstring_and_deprecators\u001b[39m(matplotlib\u001b[38;5;241m.\u001b[39mimage\u001b[38;5;241m.\u001b[39mimread)\n\u001b[0;32m   2122\u001b[0m \u001b[38;5;28;01mdef\u001b[39;00m \u001b[38;5;21mimread\u001b[39m(fname, \u001b[38;5;28mformat\u001b[39m\u001b[38;5;241m=\u001b[39m\u001b[38;5;28;01mNone\u001b[39;00m):\n\u001b[1;32m-> 2123\u001b[0m     \u001b[38;5;28;01mreturn\u001b[39;00m \u001b[43mmatplotlib\u001b[49m\u001b[38;5;241;43m.\u001b[39;49m\u001b[43mimage\u001b[49m\u001b[38;5;241;43m.\u001b[39;49m\u001b[43mimread\u001b[49m\u001b[43m(\u001b[49m\u001b[43mfname\u001b[49m\u001b[43m,\u001b[49m\u001b[43m \u001b[49m\u001b[38;5;28;43mformat\u001b[39;49m\u001b[43m)\u001b[49m\n",
      "File \u001b[1;32mc:\\users\\adshi\\appdata\\local\\programs\\python\\python38\\lib\\site-packages\\matplotlib\\image.py:1541\u001b[0m, in \u001b[0;36mimread\u001b[1;34m(fname, format)\u001b[0m\n\u001b[0;32m   1534\u001b[0m \u001b[38;5;28;01mif\u001b[39;00m \u001b[38;5;28misinstance\u001b[39m(fname, \u001b[38;5;28mstr\u001b[39m) \u001b[38;5;129;01mand\u001b[39;00m \u001b[38;5;28mlen\u001b[39m(parse\u001b[38;5;241m.\u001b[39murlparse(fname)\u001b[38;5;241m.\u001b[39mscheme) \u001b[38;5;241m>\u001b[39m \u001b[38;5;241m1\u001b[39m:\n\u001b[0;32m   1535\u001b[0m     \u001b[38;5;66;03m# Pillow doesn't handle URLs directly.\u001b[39;00m\n\u001b[0;32m   1536\u001b[0m     \u001b[38;5;28;01mraise\u001b[39;00m \u001b[38;5;167;01mValueError\u001b[39;00m(\n\u001b[0;32m   1537\u001b[0m         \u001b[38;5;124m\"\u001b[39m\u001b[38;5;124mPlease open the URL for reading and pass the \u001b[39m\u001b[38;5;124m\"\u001b[39m\n\u001b[0;32m   1538\u001b[0m         \u001b[38;5;124m\"\u001b[39m\u001b[38;5;124mresult to Pillow, e.g. with \u001b[39m\u001b[38;5;124m\"\u001b[39m\n\u001b[0;32m   1539\u001b[0m         \u001b[38;5;124m\"\u001b[39m\u001b[38;5;124m``np.array(PIL.Image.open(urllib.request.urlopen(url)))``.\u001b[39m\u001b[38;5;124m\"\u001b[39m\n\u001b[0;32m   1540\u001b[0m         )\n\u001b[1;32m-> 1541\u001b[0m \u001b[38;5;28;01mwith\u001b[39;00m \u001b[43mimg_open\u001b[49m\u001b[43m(\u001b[49m\u001b[43mfname\u001b[49m\u001b[43m)\u001b[49m \u001b[38;5;28;01mas\u001b[39;00m image:\n\u001b[0;32m   1542\u001b[0m     \u001b[38;5;28;01mreturn\u001b[39;00m (_pil_png_to_float_array(image)\n\u001b[0;32m   1543\u001b[0m             \u001b[38;5;28;01mif\u001b[39;00m \u001b[38;5;28misinstance\u001b[39m(image, PIL\u001b[38;5;241m.\u001b[39mPngImagePlugin\u001b[38;5;241m.\u001b[39mPngImageFile) \u001b[38;5;28;01melse\u001b[39;00m\n\u001b[0;32m   1544\u001b[0m             pil_to_array(image))\n",
      "File \u001b[1;32mc:\\users\\adshi\\appdata\\local\\programs\\python\\python38\\lib\\site-packages\\PIL\\Image.py:3131\u001b[0m, in \u001b[0;36mopen\u001b[1;34m(fp, mode, formats)\u001b[0m\n\u001b[0;32m   3128\u001b[0m     filename \u001b[38;5;241m=\u001b[39m fp\n\u001b[0;32m   3130\u001b[0m \u001b[38;5;28;01mif\u001b[39;00m filename:\n\u001b[1;32m-> 3131\u001b[0m     fp \u001b[38;5;241m=\u001b[39m \u001b[43mbuiltins\u001b[49m\u001b[38;5;241;43m.\u001b[39;49m\u001b[43mopen\u001b[49m\u001b[43m(\u001b[49m\u001b[43mfilename\u001b[49m\u001b[43m,\u001b[49m\u001b[43m \u001b[49m\u001b[38;5;124;43m\"\u001b[39;49m\u001b[38;5;124;43mrb\u001b[39;49m\u001b[38;5;124;43m\"\u001b[39;49m\u001b[43m)\u001b[49m\n\u001b[0;32m   3132\u001b[0m     exclusive_fp \u001b[38;5;241m=\u001b[39m \u001b[38;5;28;01mTrue\u001b[39;00m\n\u001b[0;32m   3134\u001b[0m \u001b[38;5;28;01mtry\u001b[39;00m:\n",
      "\u001b[1;31mFileNotFoundError\u001b[0m: [Errno 2] No such file or directory: 'Road-detection/test_images/frame2519_leftImg8bit.jpg'"
     ]
    }
   ],
   "source": [
    "#Reading in the test images\n",
    "test_image = plt.imread('Road-detection/test_images/frame2519_leftImg8bit.jpg')\n",
    "display_image(test_image)\n",
    "#list_images(test_images)"
   ]
  },
  {
   "cell_type": "code",
   "execution_count": null,
   "id": "5742ea97-0f4f-4844-bc5d-cc8624d8a3eb",
   "metadata": {},
   "outputs": [],
   "source": [
    "def RGB_colour_selection(image):\n",
    "    \"\"\"\n",
    "    Apply color selection to RGB images to blackout everything except for white and yellow lane lines.\n",
    "        Parameters:\n",
    "            image: An np.array compatible with plt.imshow.\n",
    "    \"\"\"\n",
    "    #White color mask\n",
    "    lower_threshold = np.uint8([200, 200, 200])\n",
    "    upper_threshold = np.uint8([255, 255, 255])\n",
    "    white_mask = cv2.inRange(image, lower_threshold, upper_threshold)\n",
    "    \n",
    "    #Yellow color mask\n",
    "    lower_threshold = np.uint8([130, 130, 0])\n",
    "    upper_threshold = np.uint8([255, 255, 255])\n",
    "    yellow_mask = cv2.inRange(image, lower_threshold, upper_threshold)\n",
    "    \n",
    "    #Combine white and yellow masks\n",
    "    mask = cv2.bitwise_or(white_mask, yellow_mask)\n",
    "    masked_image = cv2.bitwise_and(image, image, mask = mask)\n",
    "    \n",
    "    return masked_image"
   ]
  },
  {
   "cell_type": "code",
   "execution_count": null,
   "id": "d2918112-a492-4d9f-8c89-92f6ac4e96b8",
   "metadata": {},
   "outputs": [],
   "source": [
    "rgb_selection_img = RGB_colour_selection(test_image)\n",
    "display_image(rgb_selection_img)"
   ]
  },
  {
   "cell_type": "code",
   "execution_count": null,
   "id": "82a92f1f-b806-4fae-845d-9536457d57f8",
   "metadata": {},
   "outputs": [],
   "source": [
    "def convert_hsl(image):\n",
    "    \"\"\"\n",
    "    Convert RGB images to HSL.\n",
    "        Parameters:\n",
    "            image: An np.array compatible with plt.imshow.\n",
    "    \"\"\"\n",
    "    return cv2.cvtColor(image, cv2.COLOR_RGB2HLS)\n",
    "\n",
    "display_image(convert_hsl(rgb_selection_img))"
   ]
  },
  {
   "cell_type": "code",
   "execution_count": null,
   "id": "76a584cd-adc0-4d12-b1e0-eb433a50ce8b",
   "metadata": {},
   "outputs": [],
   "source": [
    "def HSL_colour_selection(image):\n",
    "    \"\"\"\n",
    "    Apply color selection to the HSL images to blackout everything except for white and yellow lane lines.\n",
    "        Parameters:\n",
    "            image: An np.array compatible with plt.imshow.\n",
    "    \"\"\"\n",
    "    #Convert the input image to HSL\n",
    "    converted_image = convert_hsl(image)\n",
    "    \n",
    "    #White color mask\n",
    "    lower_threshold = np.uint8([0, 170, 0])\n",
    "    upper_threshold = np.uint8([255, 255, 255])\n",
    "    white_mask = cv2.inRange(converted_image, lower_threshold, upper_threshold)\n",
    "    \n",
    "    #Yellow color mask\n",
    "    lower_threshold = np.uint8([10, 0, 100])\n",
    "    upper_threshold = np.uint8([40, 255, 255])\n",
    "    yellow_mask = cv2.inRange(converted_image, lower_threshold, upper_threshold)\n",
    "    \n",
    "    #Combine white and yellow masks\n",
    "    mask = cv2.bitwise_or(white_mask, yellow_mask)\n",
    "    masked_image = cv2.bitwise_and(image, image, mask = mask)\n",
    "    \n",
    "    return masked_image"
   ]
  },
  {
   "cell_type": "code",
   "execution_count": null,
   "id": "203f1aa0-7472-449c-b240-8226f8b651e5",
   "metadata": {},
   "outputs": [],
   "source": [
    "display_image(HSL_colour_selection(rgb_selection_img))"
   ]
  },
  {
   "cell_type": "code",
   "execution_count": null,
   "id": "bf9b1961-1003-4c31-aa69-b53d36bbb22e",
   "metadata": {},
   "outputs": [],
   "source": [
    "color_selected_image = RGB_colour_selection(test_image)\n",
    "display_image(RGB_colour_selection(test_image))"
   ]
  },
  {
   "cell_type": "markdown",
   "id": "38037441-7d4e-4ff2-b8e2-e96a0c696bde",
   "metadata": {},
   "source": [
    "# ***Canny Edge Detection:***\n",
    "   The Canny edge detector is an edge detection operator that uses a multi-stage algorithm to detect a wide range of edges in images"
   ]
  },
  {
   "cell_type": "code",
   "execution_count": null,
   "id": "09500f0c-e3ae-405f-8d9d-2564a1c48425",
   "metadata": {},
   "outputs": [],
   "source": [
    "#Gray scaling the images\n",
    "def gray_scale(image):\n",
    "    \"\"\"\n",
    "    Convert images to gray scale.\n",
    "        Parameters:\n",
    "            image: An np.array compatible with plt.imshow.\n",
    "    \"\"\"\n",
    "    return cv2.cvtColor(image, cv2.COLOR_RGB2GRAY)"
   ]
  },
  {
   "cell_type": "code",
   "execution_count": null,
   "id": "0653e17f-dc12-4b36-9c64-44103d0fcc2f",
   "metadata": {},
   "outputs": [],
   "source": [
    "gray_image = gray_scale(color_selected_image)\n",
    "display_image(gray_image)"
   ]
  },
  {
   "cell_type": "code",
   "execution_count": null,
   "id": "e52d4835-a283-4ec6-9d2f-aa1ae3e74b6a",
   "metadata": {},
   "outputs": [],
   "source": [
    "#Applying gaussian smoothing\n",
    "def gaussian_smoothing(image, kernel_size = 11):\n",
    "    \"\"\"\n",
    "    Apply Gaussian filter to the input image.\n",
    "        Parameters:\n",
    "            image: An np.array compatible with plt.imshow.\n",
    "            kernel_size (Default = 13): The size of the Gaussian kernel will affect the performance of the detector.\n",
    "            It must be an odd number (3, 5, 7, ...).\n",
    "    \"\"\"\n",
    "    return cv2.GaussianBlur(image, (kernel_size, kernel_size), 0)"
   ]
  },
  {
   "cell_type": "code",
   "execution_count": null,
   "id": "af98d77d-effc-43d2-ae84-4ef5460d2f5f",
   "metadata": {},
   "outputs": [],
   "source": [
    "blur_image = gaussian_smoothing(gray_image)\n",
    "display_image(blur_image)"
   ]
  },
  {
   "cell_type": "code",
   "execution_count": null,
   "id": "bf719d32-7f7b-4aed-a1a0-667579c8a158",
   "metadata": {},
   "outputs": [],
   "source": [
    "#Applying canny edge detection\n",
    "def canny_detector(image, low_threshold = 50, high_threshold = 170):\n",
    "    \"\"\"\n",
    "    Apply Canny Edge Detection algorithm to the input image.\n",
    "        Parameters:\n",
    "            image: An np.array compatible with plt.imshow.\n",
    "            low_threshold (Default = 50).\n",
    "            high_threshold (Default = 150).\n",
    "    \"\"\"\n",
    "    return cv2.Canny(image, low_threshold, high_threshold)"
   ]
  },
  {
   "cell_type": "code",
   "execution_count": null,
   "id": "e242aef1-3ed1-4eb8-90ea-37620e37f948",
   "metadata": {},
   "outputs": [],
   "source": [
    "edge_detected_image = canny_detector(blur_image)\n",
    "display_image(edge_detected_image)"
   ]
  },
  {
   "cell_type": "code",
   "execution_count": null,
   "id": "36083036-0e09-4748-ae3b-a93794e25e96",
   "metadata": {},
   "outputs": [],
   "source": [
    "def region_selection(image):\n",
    "    \"\"\"\n",
    "    Determine and cut the region of interest in the input image.\n",
    "        Parameters:\n",
    "            image: An np.array compatible with plt.imshow.\n",
    "    \"\"\"\n",
    "    mask = np.zeros_like(image)   \n",
    "    #Defining a 3 channel or 1 channel color to fill the mask with depending on the input image\n",
    "    if len(image.shape) > 2:\n",
    "        channel_count = image.shape[2]\n",
    "        ignore_mask_color = (255,) * channel_count\n",
    "    else:\n",
    "        ignore_mask_color = 255\n",
    "    #We could have used fixed numbers as the vertices of the polygon,\n",
    "    #but they will not be applicable to images with different dimesnions.\n",
    "    rows, cols = image.shape[:2]\n",
    "    bottom_left  = [cols * 0.1, rows * 0.95]\n",
    "    top_left     = [cols * 0.4, rows * 0.6]\n",
    "    bottom_right = [cols * 0.9, rows * 0.8]\n",
    "    top_right    = [cols * 0.6, rows * 0.5]\n",
    "    vertices = np.array([[bottom_left, top_left, top_right, bottom_right]], dtype=np.int32)\n",
    "    cv2.fillPoly(mask, vertices, ignore_mask_color)\n",
    "    masked_image = cv2.bitwise_and(image, mask)\n",
    "    return masked_image"
   ]
  },
  {
   "cell_type": "code",
   "execution_count": null,
   "id": "645e7add-990e-4f26-a359-489ae3102383",
   "metadata": {},
   "outputs": [],
   "source": [
    "masked_image = region_selection(edge_detected_image)\n",
    "display_image(masked_image)"
   ]
  },
  {
   "cell_type": "code",
   "execution_count": null,
   "id": "19bdf144-4cc9-45d5-848f-a04b626b40e7",
   "metadata": {},
   "outputs": [],
   "source": []
  },
  {
   "cell_type": "code",
   "execution_count": null,
   "id": "9e2db24b-bfd7-43d4-9277-185ea91f6de4",
   "metadata": {},
   "outputs": [],
   "source": []
  },
  {
   "cell_type": "code",
   "execution_count": null,
   "id": "63ab885e-7692-4e5f-ad3c-30b26bfcced7",
   "metadata": {},
   "outputs": [],
   "source": []
  }
 ],
 "metadata": {
  "kernelspec": {
   "display_name": "Python 3 (ipykernel)",
   "language": "python",
   "name": "python3"
  },
  "language_info": {
   "codemirror_mode": {
    "name": "ipython",
    "version": 3
   },
   "file_extension": ".py",
   "mimetype": "text/x-python",
   "name": "python",
   "nbconvert_exporter": "python",
   "pygments_lexer": "ipython3",
   "version": "3.8.2"
  }
 },
 "nbformat": 4,
 "nbformat_minor": 5
}
